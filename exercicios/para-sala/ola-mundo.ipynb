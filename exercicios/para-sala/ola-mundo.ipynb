{
 "cells": [
  {
   "cell_type": "code",
   "execution_count": 13,
   "metadata": {},
   "outputs": [
    {
     "name": "stdout",
     "output_type": "stream",
     "text": [
      "\u001b[35molá, mundo!\n",
      "\u001b[m\u001b[34m══════════════════════════════\n",
      "\n",
      "\u001b[m\u001b[34m╔══════════════════════╗\n",
      "\u001b[34m║\u001b[31mHoje projeto guiado I!\u001b[34m║\n",
      "╚══════════════════════╝\n",
      "\u001b[m\u001b[m"
     ]
    }
   ],
   "source": [
    "import print_reprograma as pr\n",
    "\n",
    "pr.cor(\"magenta\")\n",
    "pr.imprimir(\"olá, mundo!\")\n",
    "pr.separador(30, cor_texto=\"azul\")\n",
    "pr. retangulo (\"Hoje projeto guiado I!\", cor_barra=\"azul\", cor_texto=\"vermelho\")\n",
    "pr.limpar_formatacao()"
   ]
  }
 ],
 "metadata": {
  "kernelspec": {
   "display_name": "Python 3",
   "language": "python",
   "name": "python3"
  },
  "language_info": {
   "codemirror_mode": {
    "name": "ipython",
    "version": 3
   },
   "file_extension": ".py",
   "mimetype": "text/x-python",
   "name": "python",
   "nbconvert_exporter": "python",
   "pygments_lexer": "ipython3",
   "version": "3.12.4"
  }
 },
 "nbformat": 4,
 "nbformat_minor": 2
}
