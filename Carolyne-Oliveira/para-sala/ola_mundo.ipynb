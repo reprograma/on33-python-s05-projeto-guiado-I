{
 "cells": [
  {
   "cell_type": "code",
   "execution_count": 3,
   "metadata": {},
   "outputs": [],
   "source": [
    "import print_reprograma as pr"
   ]
  },
  {
   "cell_type": "code",
   "execution_count": 4,
   "metadata": {},
   "outputs": [
    {
     "name": "stdout",
     "output_type": "stream",
     "text": [
      "Ola, mundo!\n",
      "\u001b[m"
     ]
    }
   ],
   "source": [
    "pr.imprimir('Ola, mundo!')"
   ]
  },
  {
   "cell_type": "code",
   "execution_count": 5,
   "metadata": {},
   "outputs": [
    {
     "name": "stdout",
     "output_type": "stream",
     "text": [
      "\u001b[35mOla, Mundo!\n",
      "\u001b[m\u001b[34m══════════\n",
      "\n",
      "\u001b[m"
     ]
    }
   ],
   "source": [
    "pr.cor('magenta')\n",
    "pr.imprimir('Ola, Mundo!')\n",
    "pr.separador(10, cor_texto='azul')"
   ]
  },
  {
   "cell_type": "code",
   "execution_count": 6,
   "metadata": {},
   "outputs": [
    {
     "name": "stdout",
     "output_type": "stream",
     "text": [
      "\u001b[35mOla, Mundo!\n",
      "\u001b[m\u001b[34m══════════\n",
      "\n",
      "\u001b[m\u001b[33m╔════════════════════════════╗\n",
      "\u001b[33m║\u001b[31mTexto dentro de um retangulo\u001b[33m║\n",
      "╚════════════════════════════╝\n",
      "\u001b[m"
     ]
    }
   ],
   "source": [
    "pr.cor('magenta')\n",
    "pr.imprimir('Ola, Mundo!')\n",
    "pr.separador(10, cor_texto='azul')\n",
    "pr.retangulo('Texto dentro de um retangulo', cor_barra='amarelo', cor_texto='vermelho')"
   ]
  },
  {
   "cell_type": "code",
   "execution_count": 9,
   "metadata": {},
   "outputs": [
    {
     "name": "stdout",
     "output_type": "stream",
     "text": [
      "\u001b[35mOla, Mundo!\n",
      "\u001b[m\u001b[34m══════════\n",
      "\n",
      "\u001b[m\u001b[32m╔════════════════════════════╗\n",
      "\u001b[32m║\u001b[31mTexto dentro de um retangulo\u001b[32m║\n",
      "╚════════════════════════════╝\n",
      "\u001b[m\u001b[m"
     ]
    }
   ],
   "source": [
    "pr.cor('magenta')\n",
    "pr.imprimir('Ola, Mundo!')\n",
    "pr.separador(10, cor_texto='azul')\n",
    "pr.retangulo('Texto dentro de um retangulo', cor_barra='verde', cor_texto='vermelho')\n",
    "pr.limpar_formatacao()"
   ]
  },
  {
   "cell_type": "code",
   "execution_count": 11,
   "metadata": {},
   "outputs": [
    {
     "name": "stdout",
     "output_type": "stream",
     "text": [
      "\u001b[35m\u001b[mOla, Mundo!\n",
      "\u001b[m\u001b[34m══════════\n",
      "\n",
      "\u001b[m\u001b[33m╔════════════════════════════╗\n",
      "\u001b[33m║\u001b[31mTexto dentro de um retangulo\u001b[33m║\n",
      "╚════════════════════════════╝\n",
      "\u001b[m"
     ]
    }
   ],
   "source": [
    "pr.cor('magenta')\n",
    "pr.limpar_formatacao()\n",
    "pr.imprimir('Ola, Mundo!')\n",
    "pr.separador(10, cor_texto='azul')\n",
    "pr.retangulo('Texto dentro de um retangulo', cor_barra='amarelo', cor_texto='vermelho')"
   ]
  }
 ],
 "metadata": {
  "kernelspec": {
   "display_name": "Python 3",
   "language": "python",
   "name": "python3"
  },
  "language_info": {
   "codemirror_mode": {
    "name": "ipython",
    "version": 3
   },
   "file_extension": ".py",
   "mimetype": "text/x-python",
   "name": "python",
   "nbconvert_exporter": "python",
   "pygments_lexer": "ipython3",
   "version": "3.12.4"
  }
 },
 "nbformat": 4,
 "nbformat_minor": 2
}
